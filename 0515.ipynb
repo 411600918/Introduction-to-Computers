{
  "nbformat": 4,
  "nbformat_minor": 0,
  "metadata": {
    "colab": {
      "provenance": [],
      "authorship_tag": "ABX9TyPLxLSPg+NLOUfsMWRjO3oJ",
      "include_colab_link": true
    },
    "kernelspec": {
      "name": "python3",
      "display_name": "Python 3"
    },
    "language_info": {
      "name": "python"
    }
  },
  "cells": [
    {
      "cell_type": "markdown",
      "metadata": {
        "id": "view-in-github",
        "colab_type": "text"
      },
      "source": [
        "<a href=\"https://colab.research.google.com/github/411600918/Introduction-to-Computers/blob/main/0515.ipynb\" target=\"_parent\"><img src=\"https://colab.research.google.com/assets/colab-badge.svg\" alt=\"Open In Colab\"/></a>"
      ]
    },
    {
      "cell_type": "code",
      "execution_count": 27,
      "metadata": {
        "colab": {
          "base_uri": "https://localhost:8080/"
        },
        "id": "tnt5EatrRkt0",
        "outputId": "5f174ab4-327e-4e7a-f6c7-12a3c28771e4"
      },
      "outputs": [
        {
          "output_type": "stream",
          "name": "stdout",
          "text": [
            "今天會下雨嗎?A\n",
            "請重新輸入\n"
          ]
        }
      ],
      "source": [
        "rain = str(input(\"今天會下雨嗎?\"))\n",
        "if(rain==\"Y\" or rain==\"y\"):\n",
        "  print('出門記得帶傘')\n",
        "elif  (rain==\"N\" or rain==\"n\"):\n",
        "  print('不用帶傘')\n",
        "else:\n",
        "  print('請重新輸入')"
      ]
    },
    {
      "cell_type": "code",
      "source": [
        "rain = str(input(\"今天會下雨嗎?\"))\n",
        "if(rain==\"Y\" or rain==\"y\"):\n",
        "  print('出門記得帶傘')\n",
        "elif  (rain==\"N\" or rain==\"n\"):\n",
        "  print('不用帶傘')\n",
        "else:\n",
        "  print('請重新輸入')"
      ],
      "metadata": {
        "colab": {
          "base_uri": "https://localhost:8080/"
        },
        "id": "LXa6QffdoYkV",
        "outputId": "387e027b-617a-47ca-a7d9-216cebdfd1ab"
      },
      "execution_count": 28,
      "outputs": [
        {
          "output_type": "stream",
          "name": "stdout",
          "text": [
            "今天會下雨嗎?Y\n",
            "出門記得帶傘\n"
          ]
        }
      ]
    },
    {
      "cell_type": "code",
      "source": [
        "score = int(input(\"請輸入體溫\"))\n",
        "if score >= 37.5:\n",
        "    print('體溫過高!')\n",
        "elif score >= 37:\n",
        "    print('體溫略高!')\n",
        "elif score >= 34:\n",
        "    print('體溫正常!')\n",
        "else:\n",
        "    print('體溫異常，請重新量測!')"
      ],
      "metadata": {
        "colab": {
          "base_uri": "https://localhost:8080/"
        },
        "id": "2TuQO85QaNm_",
        "outputId": "fe391200-31ba-474e-f3cd-1bc4b3c31ebd"
      },
      "execution_count": 26,
      "outputs": [
        {
          "output_type": "stream",
          "name": "stdout",
          "text": [
            "請輸入體溫38\n",
            "體溫過高!\n"
          ]
        }
      ]
    },
    {
      "cell_type": "code",
      "source": [
        "score = int(input(\"請輸入成績\"))\n",
        "if score >= 90:\n",
        "    print('A')\n",
        "elif score >= 80:\n",
        "    print('B')\n",
        "elif score >= 70:\n",
        "    print('C')\n",
        "elif score >= 60:\n",
        "    print('D')\n",
        "else:\n",
        "    print('E')"
      ],
      "metadata": {
        "colab": {
          "base_uri": "https://localhost:8080/"
        },
        "id": "Yv20hcdnTh9t",
        "outputId": "42ff0f59-4419-42c8-84b5-de71bb30401b"
      },
      "execution_count": 4,
      "outputs": [
        {
          "output_type": "stream",
          "name": "stdout",
          "text": [
            "請輸入成績90\n",
            "A\n"
          ]
        }
      ]
    },
    {
      "cell_type": "code",
      "source": [
        "score = int(input(\"請輸入成績\"))\n",
        "if score >= 90:\n",
        "    print('A')\n",
        "elif score >= 80:\n",
        "    print('B')\n",
        "elif score >= 70:\n",
        "    print('C')\n",
        "elif score >= 60:\n",
        "    print('D')\n",
        "else:\n",
        "    print('E')"
      ],
      "metadata": {
        "colab": {
          "base_uri": "https://localhost:8080/"
        },
        "id": "IFYb_RSKU0g6",
        "outputId": "ac41a3f2-7fff-4705-ea4b-dade25c27046"
      },
      "execution_count": 5,
      "outputs": [
        {
          "output_type": "stream",
          "name": "stdout",
          "text": [
            "請輸入成績80\n",
            "B\n"
          ]
        }
      ]
    },
    {
      "cell_type": "code",
      "source": [
        "score = int(input(\"請輸入成績\"))\n",
        "if score >= 90:\n",
        "    print('A')\n",
        "elif score >= 80:\n",
        "    print('B')\n",
        "elif score >= 70:\n",
        "    print('C')\n",
        "elif score >= 60:\n",
        "    print('D')\n",
        "else:\n",
        "    print('E')"
      ],
      "metadata": {
        "colab": {
          "base_uri": "https://localhost:8080/"
        },
        "id": "y7fF7_NiU2JR",
        "outputId": "5edebf2a-6a99-4f72-b9ef-a845685ce77a"
      },
      "execution_count": 6,
      "outputs": [
        {
          "output_type": "stream",
          "name": "stdout",
          "text": [
            "請輸入成績50\n",
            "E\n"
          ]
        }
      ]
    },
    {
      "cell_type": "code",
      "source": [
        "score = int(input(\"請輸入月份\"))\n",
        "if score == 3:\n",
        "    print(int(score),'月是春天')\n",
        "elif score == 4:\n",
        "    print(int(score),'月是春天')\n",
        "elif score == 5:\n",
        "    print(int(score),'月是春天')\n",
        "elif score == 6:\n",
        "    print(int(score),'月是夏天')\n",
        "elif score == 7:\n",
        "    print(int(score),'月是夏天')\n",
        "elif score == 8:\n",
        "    print(int(score),'月是夏天')\n",
        "elif score == 9:\n",
        "    print(int(score),'月是秋天')\n",
        "elif score == 10:\n",
        "    print(int(score),'月是秋天')\n",
        "elif score == 11:\n",
        "    print(int(score),'月是秋天')\n",
        "elif score == 12:\n",
        "    print(int(score),'月是冬天')\n",
        "elif score == 1:\n",
        "    print(int(score),'月是冬天')\n",
        "elif score == 2:\n",
        "    print(int(score),'月是冬天')\n",
        "else:\n",
        "    print('月份不在範圍內')"
      ],
      "metadata": {
        "colab": {
          "base_uri": "https://localhost:8080/"
        },
        "id": "nmRzAvEgU4DV",
        "outputId": "d8a86b73-7f5a-4394-c843-379d9751a421"
      },
      "execution_count": 16,
      "outputs": [
        {
          "output_type": "stream",
          "name": "stdout",
          "text": [
            "請輸入月份3\n",
            "3 月是春天\n"
          ]
        }
      ]
    },
    {
      "cell_type": "code",
      "source": [
        "score = int(input(\"請輸入今年收入淨額\"))\n",
        "if score >= 2000000:\n",
        "    print('付稅金額為:',int(score*0.3),\"元\")\n",
        "\n",
        "elif score >= 1000000:\n",
        "    print('付稅金額為:',int(score*0.21),\"元\")\n",
        "elif score >= 600000:\n",
        "    print('付稅金額為:',int(score*0.13),\"元\")\n",
        "elif score >= 300000:\n",
        "    print('付稅金額為:',int(score*0.06),\"元\")\n",
        "else:\n",
        "    print('付稅金額為0元')"
      ],
      "metadata": {
        "colab": {
          "base_uri": "https://localhost:8080/"
        },
        "id": "E9pNBqu4XtA7",
        "outputId": "2491de7f-c940-4c14-f368-7062833d6c8f"
      },
      "execution_count": 22,
      "outputs": [
        {
          "output_type": "stream",
          "name": "stdout",
          "text": [
            "請輸入今年收入淨額100000\n",
            "付稅金額為0元\n"
          ]
        }
      ]
    },
    {
      "cell_type": "code",
      "source": [
        "score = int(input(\"請輸入今年收入淨額\"))\n",
        "if score >= 2000000:\n",
        "    print('付稅金額為:',int(score*0.3),\"元\")\n",
        "\n",
        "elif score >= 1000000:\n",
        "    print('付稅金額為:',int(score*0.21),\"元\")\n",
        "elif score >= 600000:\n",
        "    print('付稅金額為:',int(score*0.13),\"元\")\n",
        "elif score >= 300000:\n",
        "    print('付稅金額為:',int(score*0.06),\"元\")\n",
        "else:\n",
        "    print('付稅金額為0元')"
      ],
      "metadata": {
        "colab": {
          "base_uri": "https://localhost:8080/"
        },
        "id": "wMiJ9R7mZ66P",
        "outputId": "e10244d4-d51b-43af-8a95-ae47e33dc69f"
      },
      "execution_count": 23,
      "outputs": [
        {
          "output_type": "stream",
          "name": "stdout",
          "text": [
            "請輸入今年收入淨額20000000\n",
            "付稅金額為: 6000000 元\n"
          ]
        }
      ]
    }
  ]
}