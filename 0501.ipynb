{
  "nbformat": 4,
  "nbformat_minor": 0,
  "metadata": {
    "colab": {
      "provenance": [],
      "authorship_tag": "ABX9TyMaPLDKJdcKouhtzjt4jCax",
      "include_colab_link": true
    },
    "kernelspec": {
      "name": "python3",
      "display_name": "Python 3"
    },
    "language_info": {
      "name": "python"
    }
  },
  "cells": [
    {
      "cell_type": "markdown",
      "metadata": {
        "id": "view-in-github",
        "colab_type": "text"
      },
      "source": [
        "<a href=\"https://colab.research.google.com/github/411600918/Introduction-to-Computers/blob/main/0501.ipynb\" target=\"_parent\"><img src=\"https://colab.research.google.com/assets/colab-badge.svg\" alt=\"Open In Colab\"/></a>"
      ]
    },
    {
      "cell_type": "code",
      "execution_count": 2,
      "metadata": {
        "colab": {
          "base_uri": "https://localhost:8080/"
        },
        "id": "PASIY3VPVJIj",
        "outputId": "3c612a5a-1e0a-4dd8-cbba-b6a8d18eea28"
      },
      "outputs": [
        {
          "name": "stdout",
          "output_type": "stream",
          "text": [
            "請輸入存款金額10000\n"
          ]
        }
      ],
      "source": [
        "a = int(input(\"請輸入存款金額:\"))\n"
      ]
    },
    {
      "cell_type": "code",
      "source": [
        "b = a * 1.02**6"
      ],
      "metadata": {
        "colab": {
          "base_uri": "https://localhost:8080/"
        },
        "id": "q4JDYW5jbz67",
        "outputId": "de840911-7f46-4250-df32-383bd35378bc"
      },
      "execution_count": 4,
      "outputs": [
        {
          "name": "stdout",
          "output_type": "stream",
          "text": [
            "六年後存款為:10000\n"
          ]
        }
      ]
    },
    {
      "cell_type": "code",
      "source": [
        "A = int(input(\"請輸入存款金額:\"))\n",
        "c = A*1.02**6\n",
        "print(c)"
      ],
      "metadata": {
        "colab": {
          "base_uri": "https://localhost:8080/"
        },
        "id": "-lQHt1M5dbbO",
        "outputId": "66eff95a-914f-4b13-a3f8-00f455c44580"
      },
      "execution_count": 18,
      "outputs": [
        {
          "output_type": "stream",
          "name": "stdout",
          "text": [
            "請輸入存款金額:10000\n",
            "11261.62419264\n"
          ]
        }
      ]
    },
    {
      "cell_type": "code",
      "source": [
        "A = int(input(\"請輸入存款金額:\"))\n",
        "c = A*1.02**6\n",
        "print(\"六年後的存款為:\",float(c))"
      ],
      "metadata": {
        "colab": {
          "base_uri": "https://localhost:8080/"
        },
        "id": "v3JQDkWOdqvO",
        "outputId": "87dc649e-f19f-4677-c097-4c6d87ee8fbc"
      },
      "execution_count": 19,
      "outputs": [
        {
          "output_type": "stream",
          "name": "stdout",
          "text": [
            "請輸入存款金額:10000\n",
            "六年後的存款為: 11261.62419264\n"
          ]
        }
      ]
    },
    {
      "cell_type": "code",
      "source": [
        "print(\"Hello World\")"
      ],
      "metadata": {
        "colab": {
          "base_uri": "https://localhost:8080/"
        },
        "id": "t5FPCl8xd6Dc",
        "outputId": "d2cc0500-bfea-484e-b762-fa6390302ccd"
      },
      "execution_count": 20,
      "outputs": [
        {
          "output_type": "stream",
          "name": "stdout",
          "text": [
            "Hello World\n"
          ]
        }
      ]
    },
    {
      "cell_type": "code",
      "source": [
        "華氏 = float(input('請輸入華氏溫度？'))\n",
        "攝氏 = ( 華氏 - 32 ) * 5 / 9\n",
        "攝氏 = (\"%.1f\"%攝氏)\n",
        "print(\"轉換後攝氏溫度為\", 攝氏)"
      ],
      "metadata": {
        "colab": {
          "base_uri": "https://localhost:8080/"
        },
        "id": "p4DIzV6_eQeI",
        "outputId": "b3ac7c29-e472-4e73-e1b9-71212bde9473"
      },
      "execution_count": 26,
      "outputs": [
        {
          "output_type": "stream",
          "name": "stdout",
          "text": [
            "請輸入華氏溫度？100\n",
            "轉換後攝氏溫度為 37.8\n"
          ]
        }
      ]
    },
    {
      "cell_type": "code",
      "source": [
        "for i in range(6):\n",
        "    print(str(i))"
      ],
      "metadata": {
        "colab": {
          "base_uri": "https://localhost:8080/"
        },
        "id": "cwkZG1CPf5gk",
        "outputId": "a9978fc9-c7db-4fdd-fe3c-3e25e02f7168"
      },
      "execution_count": 31,
      "outputs": [
        {
          "output_type": "stream",
          "name": "stdout",
          "text": [
            "0\n",
            "1\n",
            "2\n",
            "3\n",
            "4\n",
            "5\n"
          ]
        }
      ]
    }
  ]
}